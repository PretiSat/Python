{
 "cells": [
  {
   "cell_type": "code",
   "execution_count": 1,
   "metadata": {},
   "outputs": [
    {
     "name": "stdin",
     "output_type": "stream",
     "text": [
      "Enter result (1=pass, 2=fail):  1\n",
      "Enter result (1=pass, 2=fail):  2\n",
      "Enter result (1=pass, 2=fail):  2\n",
      "Enter result (1=pass, 2=fail):  1\n",
      "Enter result (1=pass, 2=fail):  1\n",
      "Enter result (1=pass, 2=fail):  2\n",
      "Enter result (1=pass, 2=fail):  1\n",
      "Enter result (1=pass, 2=fail):  1\n",
      "Enter result (1=pass, 2=fail):  1\n",
      "Enter result (1=pass, 2=fail):  1\n"
     ]
    },
    {
     "name": "stdout",
     "output_type": "stream",
     "text": [
      "Passed: 7\n",
      "Failed: 3\n"
     ]
    }
   ],
   "source": [
    "# # fig03_03.py\n",
    "\"\"\"Using nested control statements to analyze examination results.\"\"\"\n",
    "\n",
    "# initialize variables\n",
    "passes = 0  # number of passes\n",
    "failures = 0  # number of failures\n",
    "\n",
    "# process 10 students\n",
    "for student in range(10):\n",
    "    # get one exam result\n",
    "    result = int(input('Enter result (1=pass, 2=fail): '))\n",
    "    \n",
    "    while result!=1 and result!=2:\n",
    "        print('invalid entry')\n",
    "        result = int(input('Enter result (1=pass, 2=fail): '))\n",
    "\n",
    "    if result == 1:\n",
    "        passes = passes + 1\n",
    "    else:\n",
    "        failures = failures + 1\n",
    "   \n",
    "\n",
    "# termination phase\n",
    "print('Passed:', passes)\n",
    "print('Failed:', failures)\n",
    "\n",
    "if passes > 8:\n",
    "    print('Bonus to instructor')"
   ]
  },
  {
   "cell_type": "code",
   "execution_count": 9,
   "metadata": {},
   "outputs": [
    {
     "name": "stdout",
     "output_type": "stream",
     "text": [
      "a= 7 \n",
      "b= 7\n"
     ]
    }
   ],
   "source": [
    "a=b=7\n",
    "print('a=',a,'\\nb=',b)"
   ]
  },
  {
   "cell_type": "code",
   "execution_count": 17,
   "metadata": {},
   "outputs": [
    {
     "name": "stdout",
     "output_type": "stream",
     "text": [
      ">>>>>>>>>>\n",
      "<<<<<<<<<<\n",
      ">>>>>>>>>>\n",
      "<<<<<<<<<<\n",
      ">>>>>>>>>>\n",
      "<<<<<<<<<<\n",
      ">>>>>>>>>>\n",
      "<<<<<<<<<<\n",
      ">>>>>>>>>>\n",
      "<<<<<<<<<<\n"
     ]
    }
   ],
   "source": [
    "for row in range(10):\n",
    "    for column in range(10):\n",
    "        print('<' if row%2 == 1 else '>', end='')\n",
    "    print()\n",
    "    "
   ]
  },
  {
   "cell_type": "code",
   "execution_count": 20,
   "metadata": {},
   "outputs": [
    {
     "name": "stdout",
     "output_type": "stream",
     "text": [
      "@@@@@@@\n",
      "@@@@@@@\n"
     ]
    }
   ],
   "source": [
    "for row in range(2):\n",
    "    for column in range(7):\n",
    "        print('@',end='')\n",
    "    print()"
   ]
  },
  {
   "cell_type": "code",
   "execution_count": null,
   "metadata": {},
   "outputs": [],
   "source": [
    "# fig02_01.py\n",
    "\"\"\"Compare integers using if statements and comparison operators.\"\"\"\n",
    "\n",
    "print('Enter two integers and I will tell you', \n",
    "      'the relationships they satisfy.')\n",
    "\n",
    "# read first integer\n",
    "number1 = int(input('Enter first integer: '))\n",
    "\n",
    "# read second integer\n",
    "number2 = int(input('Enter second integer: '))\n",
    "\n",
    "if number1 == number2:\n",
    "    print(number1, 'is equal to', number2)\n",
    "\n",
    "if number1 != number2:\n",
    "    print(number1, 'is not equal to', number2)\n",
    "\n",
    "if number1 < number2:\n",
    "    print(number1, 'is less than', number2)\n",
    "\n",
    "if number1 > number2:\n",
    "    print(number1, 'is greater than', number2)\n",
    "\n",
    "if number1 <= number2:\n",
    "    print(number1, 'is less than or equal to', number2)\n",
    "\n",
    "if number1 >= number2:\n",
    "    print(number1, 'is greater than or equal to', number2)"
   ]
  },
  {
   "cell_type": "code",
   "execution_count": 22,
   "metadata": {},
   "outputs": [
    {
     "name": "stdin",
     "output_type": "stream",
     "text": [
      "what is your problem? eye pain\n",
      "have you had this problem before (yes or no)? no\n"
     ]
    },
    {
     "name": "stdout",
     "output_type": "stream",
     "text": [
      "well, you have it now\n"
     ]
    }
   ],
   "source": [
    "q1=input('what is your problem?')\n",
    "q2 = input('have you had this problem before (yes or no)?')\n",
    "if q2 == 'yes':\n",
    "    print('well, you have it again')\n",
    "else:\n",
    "    print('well, you have it now')\n",
    "    "
   ]
  },
  {
   "cell_type": "code",
   "execution_count": 30,
   "metadata": {},
   "outputs": [
    {
     "name": "stdout",
     "output_type": "stream",
     "text": [
      "number\t sqaure\t cube\n",
      "     0        0     0\n",
      "     1        1     1\n",
      "     2        4     8\n",
      "     3        9    27\n",
      "     4       16    64\n",
      "     5       25   125\n"
     ]
    }
   ],
   "source": [
    "num = [0,1,2,3,4,5]\n",
    "print('number\\t','sqaure\\t','cube')\n",
    "for numbers in num:\n",
    "    print(f'{numbers:>6}{numbers**2:>9}{numbers**3:>6}')"
   ]
  },
  {
   "cell_type": "code",
   "execution_count": 31,
   "metadata": {},
   "outputs": [
    {
     "name": "stdin",
     "output_type": "stream",
     "text": [
      "enter 4 integers 2\n",
      "enter 4 integers 3\n",
      "enter 4 integers 6\n",
      "enter 4 integers 9\n"
     ]
    },
    {
     "name": "stdout",
     "output_type": "stream",
     "text": [
      "[2, 3, 6, 9]\n"
     ]
    }
   ],
   "source": [
    "num = []\n",
    "y=1\n",
    "for n in range(4):\n",
    "    x = int(input('enter 4 integers'))\n",
    "    num.append(x)\n",
    "    \n",
    "print(num)\n"
   ]
  },
  {
   "cell_type": "code",
   "execution_count": 33,
   "metadata": {},
   "outputs": [
    {
     "data": {
      "text/plain": [
       "20"
      ]
     },
     "execution_count": 33,
     "metadata": {},
     "output_type": "execute_result"
    }
   ],
   "source": [
    "sum(num)"
   ]
  },
  {
   "cell_type": "code",
   "execution_count": 35,
   "metadata": {},
   "outputs": [
    {
     "data": {
      "text/plain": [
       "5.0"
      ]
     },
     "execution_count": 35,
     "metadata": {},
     "output_type": "execute_result"
    }
   ],
   "source": [
    "sum(num)/4"
   ]
  },
  {
   "cell_type": "code",
   "execution_count": 36,
   "metadata": {},
   "outputs": [
    {
     "name": "stdout",
     "output_type": "stream",
     "text": [
      "4 2 3 3 9 "
     ]
    }
   ],
   "source": [
    "x = 42339\n",
    "y = 10000\n",
    "while x>1:\n",
    "    print(x//y,end=\" \")\n",
    "    x = x%y\n",
    "    y = y//10"
   ]
  },
  {
   "cell_type": "code",
   "execution_count": 44,
   "metadata": {},
   "outputs": [
    {
     "name": "stdout",
     "output_type": "stream",
     "text": [
      "1070.0\n",
      "1144.9\n",
      "1225.0430000000001\n",
      "1310.7960100000003\n",
      "1402.5517307000005\n",
      "1500.7303518490005\n",
      "1605.7814764784307\n",
      "1718.186179831921\n",
      "1838.4592124201556\n",
      "1967.1513572895665\n",
      "2104.8519522998363\n",
      "2252.191588960825\n",
      "2409.845000188083\n",
      "2578.534150201249\n",
      "2759.031540715336\n",
      "2952.16374856541\n",
      "3158.8152109649886\n",
      "3379.932275732538\n",
      "3616.5275350338165\n",
      "3869.6844624861833\n",
      "4140.562374860217\n",
      "4430.401741100432\n",
      "4740.5298629774625\n",
      "5072.366953385886\n",
      "5427.432640122897\n",
      "5807.352924931501\n",
      "6213.867629676706\n",
      "6648.838363754076\n",
      "7114.257049216862\n",
      "7612.255042662042\n"
     ]
    }
   ],
   "source": [
    "p = 1000\n",
    "r = .07\n",
    "n = [10,20,30]\n",
    "for year in range(1,31):\n",
    "    a=p*((1+r)**year)\n",
    "    print (a)\n"
   ]
  },
  {
   "cell_type": "code",
   "execution_count": 47,
   "metadata": {},
   "outputs": [
    {
     "data": {
      "text/plain": [
       "35"
      ]
     },
     "execution_count": 47,
     "metadata": {},
     "output_type": "execute_result"
    }
   ],
   "source": [
    "355//10"
   ]
  },
  {
   "cell_type": "code",
   "execution_count": 49,
   "metadata": {},
   "outputs": [
    {
     "data": {
      "text/plain": [
       "0"
      ]
     },
     "execution_count": 49,
     "metadata": {},
     "output_type": "execute_result"
    }
   ],
   "source": [
    "3//10"
   ]
  },
  {
   "cell_type": "code",
   "execution_count": 57,
   "metadata": {},
   "outputs": [
    {
     "name": "stdin",
     "output_type": "stream",
     "text": [
      "enter a five digit number 12321\n"
     ]
    },
    {
     "name": "stdout",
     "output_type": "stream",
     "text": [
      "12321\n",
      "the number is pallindrome\n"
     ]
    }
   ],
   "source": [
    "x = int(input ('enter a five digit number'))\n",
    "old_num = x\n",
    "y = 0\n",
    "while x > 0:\n",
    "    y = (y*10) + (x%10)\n",
    "    x = x//10\n",
    "print(y)\n",
    "if old_num==y:\n",
    "    print('the number is pallindrome')\n",
    "else:\n",
    "    print('sorry')"
   ]
  },
  {
   "cell_type": "code",
   "execution_count": 62,
   "metadata": {},
   "outputs": [
    {
     "name": "stdin",
     "output_type": "stream",
     "text": [
      "enter gallons, -1 to end 12.8\n",
      "enter miles driven 287\n"
     ]
    },
    {
     "name": "stdout",
     "output_type": "stream",
     "text": [
      "miles/gallon for this tank was 22.421875\n"
     ]
    },
    {
     "name": "stdin",
     "output_type": "stream",
     "text": [
      "enter gallons, -1 to end 10.3\n",
      "enter miles driven 200\n"
     ]
    },
    {
     "name": "stdout",
     "output_type": "stream",
     "text": [
      "miles/gallon for this tank was 19.41747572815534\n"
     ]
    },
    {
     "name": "stdin",
     "output_type": "stream",
     "text": [
      "enter gallons, -1 to end 5\n",
      "enter miles driven 120\n"
     ]
    },
    {
     "name": "stdout",
     "output_type": "stream",
     "text": [
      "miles/gallon for this tank was 24.0\n"
     ]
    },
    {
     "name": "stdin",
     "output_type": "stream",
     "text": [
      "enter gallons, -1 to end -1\n"
     ]
    },
    {
     "name": "stdout",
     "output_type": "stream",
     "text": [
      "the overall miles/gallon was 21.601423487544483\n"
     ]
    }
   ],
   "source": [
    "gallons = 0\n",
    "miles = 0\n",
    "g = float(input('enter gallons, -1 to end'))\n",
    "\n",
    "while g != -1:\n",
    "    m = float(input('enter miles driven'))\n",
    "    print('miles/gallon for this tank was', m/g)\n",
    "    gallons += g\n",
    "    miles +=m\n",
    "    g = float(input('enter gallons, -1 to end'))\n",
    "\n",
    "if g == -1:\n",
    "    print('the overall miles/gallon was', miles/gallons)\n",
    "    "
   ]
  },
  {
   "cell_type": "code",
   "execution_count": 109,
   "metadata": {},
   "outputs": [
    {
     "name": "stdin",
     "output_type": "stream",
     "text": [
      "enter a number 1\n"
     ]
    },
    {
     "name": "stdout",
     "output_type": "stream",
     "text": [
      "1\n"
     ]
    }
   ],
   "source": [
    "n = int(input('enter a number'))\n",
    "ans = 1\n",
    "while n > 0:\n",
    "    ans = ans * (n)\n",
    "    n = n-1\n",
    "print(ans)"
   ]
  },
  {
   "cell_type": "code",
   "execution_count": 75,
   "metadata": {},
   "outputs": [
    {
     "data": {
      "text/plain": [
       "2.666666666666667"
      ]
     },
     "execution_count": 75,
     "metadata": {},
     "output_type": "execute_result"
    }
   ],
   "source": [
    "con = 4\n",
    "den = 1 \n",
    "pie = con - con/den\n",
    "pie"
   ]
  },
  {
   "cell_type": "code",
   "execution_count": 96,
   "metadata": {},
   "outputs": [
    {
     "name": "stdout",
     "output_type": "stream",
     "text": [
      "4.0 1 0\n",
      "2.666666666666667 3 1\n",
      "3.466666666666667 5 2\n",
      "2.8952380952380956 7 3\n",
      "3.3396825396825403 9 4\n",
      "2.9760461760461765 11 5\n",
      "3.2837384837384844 13 6\n",
      "3.017071817071818 15 7\n",
      "3.2523659347188767 17 8\n",
      "3.0418396189294032 19 9\n"
     ]
    }
   ],
   "source": [
    "num = 4\n",
    "den = 1\n",
    "pi = 0\n",
    "\n",
    "for i in range(10):\n",
    "    if i%2 == 0:\n",
    "        pi = pi + num/den\n",
    "        print(pi,den,i)\n",
    "    else:\n",
    "        pi = pi - num/den\n",
    "        print(pi,den,i)\n",
    "    den = den+2\n"
   ]
  },
  {
   "cell_type": "code",
   "execution_count": 107,
   "metadata": {},
   "outputs": [
    {
     "name": "stdout",
     "output_type": "stream",
     "text": [
      "1.0\n",
      "2.0\n",
      "2.5\n",
      "2.6666666666666665\n",
      "2.708333333333333\n",
      "2.7166666666666663\n",
      "2.7180555555555554\n",
      "2.7182539682539684\n",
      "2.71827876984127\n",
      "2.7182815255731922\n"
     ]
    }
   ],
   "source": [
    "def myfact(den):\n",
    "    n = den\n",
    "    ans = 1\n",
    "    while n > 0:\n",
    "        ans = ans * (n)\n",
    "        n = n-1\n",
    "    return(ans)\n",
    "\n",
    "num = 1\n",
    "deno = 0\n",
    "e = 0\n",
    "for den in range(10):\n",
    "    e = e + num/myfact(deno)\n",
    "    deno +=1\n",
    "    print(e)\n"
   ]
  },
  {
   "cell_type": "code",
   "execution_count": null,
   "metadata": {},
   "outputs": [],
   "source": [
    "for i in range(10):\n",
    "    x = int(input('enter a number'))\n",
    "    y = x"
   ]
  },
  {
   "cell_type": "code",
   "execution_count": 122,
   "metadata": {},
   "outputs": [
    {
     "name": "stdout",
     "output_type": "stream",
     "text": [
      "20 20 0\n",
      "997 997 20\n",
      "78 997 78\n",
      "89 997 89\n",
      "75 997 89\n",
      "50 997 89\n",
      "62 997 89\n",
      "103 997 103\n",
      "43 997 103\n",
      "101 997 103\n",
      "997 103\n"
     ]
    }
   ],
   "source": [
    "numbers = [20,997,78,89,75,50,62,103,43,101]\n",
    "largeone = 0\n",
    "largetwo = 0\n",
    "for i in numbers:\n",
    "    temp = i\n",
    "    if temp > largeone:\n",
    "        largetwo = largeone\n",
    "        largeone = temp\n",
    "        print(temp,largeone,largetwo)\n",
    "    elif temp > largetwo:\n",
    "        largetwo = temp\n",
    "        print(temp, largeone,largetwo)\n",
    "    else:\n",
    "        largetwo = largetwo\n",
    "        print(temp, largeone,largetwo)\n",
    "print(largeone,largetwo)"
   ]
  },
  {
   "cell_type": "code",
   "execution_count": 210,
   "metadata": {},
   "outputs": [
    {
     "name": "stdout",
     "output_type": "stream",
     "text": [
      "\n",
      "*\n",
      "**\n",
      "***\n",
      "****\n",
      "*****\n",
      "******\n",
      "*******\n",
      "********\n",
      "*********\n",
      "**********\n",
      "\n",
      "**********\n",
      "*********\n",
      "********\n",
      "*******\n",
      "******\n",
      "*****\n",
      "****\n",
      "***\n",
      "**\n",
      "*\n",
      "\n",
      "**********\n",
      " *********\n",
      "  ********\n",
      "   *******\n",
      "    ******\n",
      "     *****\n",
      "      ****\n",
      "       ***\n",
      "        **\n",
      "         *\n",
      "          \n",
      "         *\n",
      "        **\n",
      "       ***\n",
      "      ****\n",
      "     *****\n",
      "    ******\n",
      "   *******\n",
      "  ********\n",
      " *********\n",
      "**********\n"
     ]
    }
   ],
   "source": [
    "#print triangles\n",
    "for i in range(11):\n",
    "    for j in range(i):\n",
    "        print('*',end='')\n",
    "    print()\n",
    "print()\n",
    "\n",
    "for i in range(10,0,-1):\n",
    "    for j in range(i):\n",
    "        print('*',end='')\n",
    "    print()\n",
    "print()\n",
    "\n",
    "for i in range(10,0,-1):\n",
    "    #print('i=',i)\n",
    "    for k in range(10-i):\n",
    "        print(' ',end='')\n",
    "    \n",
    "    for j in range(i,0,-1):\n",
    "        print('*',end='')\n",
    "    print()\n",
    "\n",
    "for i in range(11):\n",
    "    #print('i=',i)\n",
    "    for k in range(10-i):\n",
    "        print(' ',end='')\n",
    "    \n",
    "    for j in range(i,0,-1):\n",
    "        print('*',end='')\n",
    "    print()\n"
   ]
  },
  {
   "cell_type": "code",
   "execution_count": 227,
   "metadata": {},
   "outputs": [
    {
     "name": "stdout",
     "output_type": "stream",
     "text": [
      "3 4 5\n",
      "6 8 10\n",
      "5 12 13\n",
      "9 12 15\n",
      "8 15 17\n"
     ]
    }
   ],
   "source": [
    "#pythagorean triples\n",
    "for c in range(1, 20):\n",
    "    for b in range(1, c):\n",
    "        for a in range(1, b):\n",
    "            if a*a + b*b == c*c:\n",
    "                print (a, b, c)\n",
    "            "
   ]
  },
  {
   "cell_type": "code",
   "execution_count": 234,
   "metadata": {},
   "outputs": [
    {
     "data": {
      "text/plain": [
       "1"
      ]
     },
     "execution_count": 234,
     "metadata": {},
     "output_type": "execute_result"
    }
   ],
   "source": [
    "53%2"
   ]
  },
  {
   "cell_type": "code",
   "execution_count": 267,
   "metadata": {},
   "outputs": [
    {
     "name": "stdout",
     "output_type": "stream",
     "text": [
      "19\n"
     ]
    }
   ],
   "source": [
    "#Binary to decimal\n",
    "power = 0\n",
    "num = 0\n",
    "d=10011\n",
    "while d!=0:\n",
    "    r = d%10\n",
    "    num = num + (r*(2**power))\n",
    "    power += 1\n",
    "    d=d//10\n",
    "print(num)"
   ]
  },
  {
   "cell_type": "code",
   "execution_count": 5,
   "metadata": {},
   "outputs": [
    {
     "name": "stdin",
     "output_type": "stream",
     "text": [
      "enter purchase price .85\n"
     ]
    },
    {
     "name": "stdout",
     "output_type": "stream",
     "text": [
      "your change is:  0 quarter(s) 1 dimes(s) 1 nickel(s) 0 pennies\n"
     ]
    }
   ],
   "source": [
    "cost = float(input(\"enter purchase price\"))\n",
    "change = int((1-cost)*100)\n",
    "quarter = change//25\n",
    "x=change%25\n",
    "dimes=x//10\n",
    "y=x%10\n",
    "nickels=y//5\n",
    "z=y%5\n",
    "pennies=z//1\n",
    "print('your change is: ',quarter,'quarter(s)',dimes,'dimes(s)',nickels,'nickel(s)',pennies,'pennies')\n",
    "\n"
   ]
  },
  {
   "cell_type": "code",
   "execution_count": null,
   "metadata": {},
   "outputs": [],
   "source": []
  },
  {
   "cell_type": "code",
   "execution_count": null,
   "metadata": {},
   "outputs": [],
   "source": []
  }
 ],
 "metadata": {
  "kernelspec": {
   "display_name": "Python 3",
   "language": "python",
   "name": "python3"
  },
  "language_info": {
   "codemirror_mode": {
    "name": "ipython",
    "version": 3
   },
   "file_extension": ".py",
   "mimetype": "text/x-python",
   "name": "python",
   "nbconvert_exporter": "python",
   "pygments_lexer": "ipython3",
   "version": "3.8.3"
  }
 },
 "nbformat": 4,
 "nbformat_minor": 4
}
